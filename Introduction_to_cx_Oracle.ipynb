{
 "cells": [
  {
   "cell_type": "markdown",
   "metadata": {},
   "source": [
    " **Working with cx_Oracle**\n",
    "==========================="
   ]
  },
  {
   "cell_type": "markdown",
   "metadata": {},
   "source": [
    " **`cx_Oracle`** is a third-party Python library that facilitates Oracle database communication."
   ]
  },
  {
   "cell_type": "markdown",
   "metadata": {
    "collapsed": true
   },
   "source": [
    "A *cursor* is a control structure that enables traversal over the records in a database. This is Python's primary means of\n",
    "accessing database table data. The setup is:\n",
    "\n",
    "*  **Create a connection object**  - To access an Oracle database, a connection is defined in the following fashion:\n",
    "\n",
    "            db = cx_Oracle.connect(<SCHEMA_NAME>, <SCHEMA_PASSWORD>, <DATABASE>)\n",
    "            \n",
    "*  **Define a cursor by calling the `cursor()` method on the connection object initiated above:**\n",
    "\n",
    "            cursor = db.cursor()  \n",
    "            \n",
    "*  **Construct a query string for the data of interest**  - This can be almost any valid SQL command:\n",
    "\n",
    "            SQL = \"SELECT * FROM SAMPLE_TABLE\"  \n",
    "            \n",
    "*  **Pass the query string to the cursor's `execute` method:**\n",
    "\n",
    "            cursor.execute(SQL) \n",
    "            \n",
    "            \n",
    "*  **Step through the cursor as if it were any Python iterable** - The result will be a list of tuples, so data elements can be accessed by row or selectively by referencing record components using index offset:\n",
    "   \n",
    "            for record in cursor: print(record)\n",
    "       "
   ]
  },
  {
   "cell_type": "markdown",
   "metadata": {},
   "source": [
    "What follows is a complete example of setting up a connection to an Oracle database and querying and returning table data."
   ]
  },
  {
   "cell_type": "code",
   "execution_count": null,
   "metadata": {
    "collapsed": false
   },
   "outputs": [],
   "source": [
    "import cx_Oracle\n",
    "\n",
    "\n",
    "# Initialize connection to `SCHEMA` in `DATABASE`:\n",
    "db = cx_Oracle.connect('SCHEMA','PASSWORD','DATABASE')\n",
    "\n",
    "# Define a cursor object, and call the connection's cursor method:\n",
    "cursor = db.cursor()\n",
    "\n",
    "# Create SQL statement to pass to cursor object:\n",
    "SQL = \"SELECT * SCHEMA.TABLENAME\"\n",
    "\n",
    "# Call the cursor's `execute` method, passing SQL as an argument:\n",
    "cursor.execute(SQL)\n",
    "\n",
    "#iterate over cursor:\n",
    "for record in cursor: print(record)\n"
   ]
  },
  {
   "cell_type": "markdown",
   "metadata": {},
   "source": [
    "Note that the returned cursor object is a Python iterator, which means the data elements can only be traversed once. "
   ]
  },
  {
   "cell_type": "markdown",
   "metadata": {
    "collapsed": false
   },
   "source": [
    "Per the *Python DB API 2.0*, details specific to the returned dataset should be written to the cursor's `description` attribute. `cursor.description` is a list of 7-tuples, each containing information describing the characteristics of a single column:\n",
    "\n",
    "*  fieldname  \n",
    "*  datatype  \n",
    "*  display_size  \n",
    "*  internal_size  \n",
    "*  precision  \n",
    "*  scale  \n",
    "*  null_ok  \n",
    "\n",
    "\n",
    "\n",
    "\n"
   ]
  },
  {
   "cell_type": "markdown",
   "metadata": {},
   "source": [
    "To obtain the header list for the returned dataset, extract the first element of each 7-tuple in `cursor.description`. Here are two ways to go about it:"
   ]
  },
  {
   "cell_type": "code",
   "execution_count": null,
   "metadata": {
    "collapsed": false
   },
   "outputs": [],
   "source": [
    "# In both cases, `headers` will contain the dataset's fieldnames.\n",
    "\n",
    "# Method 1: Extracts the 0-th element from each 7-tuple and appends to `headers`:\n",
    "headers = []\n",
    "for i in cursor.description:\n",
    "    headers.append(i[0])\n",
    "\n",
    "# Method 2: List Comprehension version:\n",
    "headers = [i[0] for i in cursor.description]\n"
   ]
  },
  {
   "cell_type": "markdown",
   "metadata": {},
   "source": [
    "Oracle-Python Data Handling and Manipulation Examples\n",
    "--------------"
   ]
  },
  {
   "cell_type": "markdown",
   "metadata": {},
   "source": [
    "The following are examples of how to carry out common tasks across the Oracle-Python interface. "
   ]
  },
  {
   "cell_type": "code",
   "execution_count": null,
   "metadata": {
    "collapsed": false
   },
   "outputs": [],
   "source": [
    "# query `SCHEMA.TABLENAME@DATABASE`, and redirect\n",
    "# returned data to a list for additional processing:\n",
    "\n",
    "import cx_Oracle\n",
    "\n",
    "db = cx_Oracle.connect('SCHEMA','PASSWORD','DATABASE')\n",
    "cursor = db.cursor()\n",
    "SQL = \"SELECT * FROM SCHEMA.TABLENAME\"\n",
    "cursor.execute(SQL)\n",
    "\n",
    "# Read `cursor` data elements into `records` list:\n",
    "records = [i for i in coeread_cursor]\n",
    "\n",
    "# Iterate over cursor, printing each record:\n",
    "for record in coeread_cursor: print(record)\n",
    "    \n",
    "# Demonstrate persistence of data:\n",
    "len(records)\n"
   ]
  },
  {
   "cell_type": "markdown",
   "metadata": {},
   "source": [
    "It may be desirable to write the queried data to file using the `csv` module:"
   ]
  },
  {
   "cell_type": "code",
   "execution_count": null,
   "metadata": {
    "collapsed": false
   },
   "outputs": [],
   "source": [
    "import cx_Oracle\n",
    "import csv\n",
    "\n",
    "db = cx_Oracle.connect('SCHEMA','PASSWORD','DATABASE')\n",
    "cursor = db.cursor()\n",
    "SQL = \"SELECT * SCHEMA.TABLENAME\"\n",
    "cursor.execute(SQL)\n",
    "\n",
    "# Extract headers from cursor.description:\n",
    "headers = [i[0] for i in cursor.description]\n",
    "\n",
    "\n",
    "# Open a file for writing, and create a csv.writer instance \n",
    "#to write records to file:\n",
    "with open(\"DATA.csv\", \"w\") as f:\n",
    "    \n",
    "    fcsv = csv.writer(f)\n",
    "\n",
    "    # Write header row, then write the rest of the data:\n",
    "    fcsv.writerow(headers)\n",
    "\n",
    "    # Iterate over cursor, writing records to fcsv:\n",
    "    for record in cursor: fcsv.writerow(record)\n",
    "\n",
    "# Reading written file back; result will be a list of lists.\n",
    "assert f.closed\n",
    "\n",
    "\n",
    "with open(\"DATA.csv\", \"r\") as f:\n",
    "    \n",
    "    fcsv = csv.reader(f)\n",
    "\n",
    "    # Iterate over cursor, writing records to fcsv:\n",
    "    for i in fcsv: print(i)  "
   ]
  },
  {
   "cell_type": "markdown",
   "metadata": {},
   "source": [
    "We'll conclude  with an example of how to change bind variables iteratively. Assume we want to return a separate list of tuples for BLD_FIRE, BLD_WATR and BLD_WTHR perils (each identified in the PERIL_ID field). We'll create a master list, which will contain 3 lists of each associated peril's records. Result will be a list of lists of records:"
   ]
  },
  {
   "cell_type": "code",
   "execution_count": null,
   "metadata": {
    "collapsed": false
   },
   "outputs": [],
   "source": [
    "import cx_Oracle\n",
    "import os\n",
    "import csv\n",
    "\n",
    "\n",
    "# Setup connection:\n",
    "db = cx_Oracle.connect('SCHEMA','PASSWORD','DATABASE')\n",
    "cursor = db.cursor()\n",
    "SQL = \"SELECT * SCHEMA.TABLENAME\"\n",
    "cursor.execute(SQL)\n",
    "\n",
    "# Extract headers:\n",
    "headers = [i[0] for i in cursor.description]\n",
    "\n",
    "# Perils to iterate over:\n",
    "perils = ['BLD_FIRE', 'BLD_WATR', 'BLD_WTHR']\n",
    "master = []\n",
    "\n",
    "\n",
    "for p in perils:\n",
    "    \n",
    "    params    = {'peril':p}\n",
    "    SQL       = \"SELECT * FROM SCHEMA.TABLENAME WHERE PERIL_IND=:peril\"\n",
    "    cursor.execute(SQL, params)\n",
    "    recs      = [i for i in cursor]\n",
    "    \n",
    "    #insert headers as first element of each sub-list:\n",
    "    recs.insert(0, tuple(headers))\n",
    "    master.append(recs)\n",
    "    \n",
    "\n",
    "# Display results:\n",
    "print(master[0])    #prints 'BLD_FIRE' list\n",
    "print(master[1])    #prints 'BLD_WATR' list\n",
    "print(master[2])    #prints 'BLD_WATR' list\n",
    "\n",
    "# To list the fields that you're binding on, call the cursor's `bindnames` method:\n",
    "print(cursor.bindnames())"
   ]
  }
 ],
 "metadata": {
  "kernelspec": {
   "display_name": "Python 3",
   "language": "python",
   "name": "python3"
  },
  "language_info": {
   "codemirror_mode": {
    "name": "ipython",
    "version": 3
   },
   "file_extension": ".py",
   "mimetype": "text/x-python",
   "name": "python",
   "nbconvert_exporter": "python",
   "pygments_lexer": "ipython3",
   "version": "3.5.1"
  }
 },
 "nbformat": 4,
 "nbformat_minor": 0
}
